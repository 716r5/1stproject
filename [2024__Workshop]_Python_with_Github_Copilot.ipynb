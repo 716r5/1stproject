{
  "cells": [
    {
      "cell_type": "markdown",
      "metadata": {
        "id": "view-in-github",
        "colab_type": "text"
      },
      "source": [
        "<a href=\"https://colab.research.google.com/github/716r5/1stproject/blob/main/%5B2024__Workshop%5D_Python_with_Github_Copilot.ipynb\" target=\"_parent\"><img src=\"https://colab.research.google.com/assets/colab-badge.svg\" alt=\"Open In Colab\"/></a>"
      ]
    },
    {
      "cell_type": "markdown",
      "metadata": {
        "id": "S0O5ZdNg1sh0"
      },
      "source": [
        "## Basic Data Types\n",
        "\n",
        "Data type is a category/class of data and we can manipulate these values by performing various operations on them. Here are 5 basic data types:\n",
        "\n",
        "<br>\n",
        "\n",
        "\n",
        "| No | Data Type                                       | Examples                   |                                        |\n",
        "|---|-----------------------|-------------------------------------------------------------------|----------------------------|\n",
        "| 1 | Integer `int`               | `-1`,`0`,`1`,`1000`                \n",
        "| 2 | Floating Point Number `float`| `-1.5`,`0.1`,$\\tt{\\frac{1}{3}}$,`2.5`,$\\pi$     \n",
        "| 3 | Boolean `Boolean`           | `True`, `False`                \n",
        "| 4 | String `str`                | `a`,`abc`,`123`, `$%81@c`|\n",
        "| 5 | `None`                  |  A null variable or object                                                                 |                     \n",
        "\n",
        "\n"
      ]
    },
    {
      "cell_type": "markdown",
      "metadata": {
        "id": "mRrMs44X0umX"
      },
      "source": [
        "What are the types of the following data.   \n",
        "Note: Whenever in doubt, you may call the built-in function __type()__ with __print()__.   \n",
        "\n",
        "\n",
        "```\n",
        "Eg. print(type('123'))\n",
        "  output: <class 'str'>\n",
        "\n",
        "  alternatively:\n",
        "\n",
        "  type('123')\n",
        "  output: 'str'\n",
        "```\n",
        "\n",
        "\n"
      ]
    },
    {
      "cell_type": "markdown",
      "metadata": {
        "id": "Y9rt2sa7xEe4"
      },
      "source": [
        "## Operators\n",
        "\n",
        "- An operator is a symbol that *operates* on one or more values, i.e. it is a symbol that represents an action or process.\n",
        "\n"
      ]
    },
    {
      "cell_type": "markdown",
      "metadata": {
        "id": "2M3THVBJMu6U"
      },
      "source": [
        "### Arithmetic Operations\n",
        "\n",
        "An arithmetic operator is an operator that works on numeric data types. Typical operations are:\n",
        "\n",
        "<center>\n",
        "\n",
        "| No |     Operation    | Symbol |\n",
        "|:--:|:----------------:|:--------:|\n",
        "| 1 |     Addition     |    `+`   |\n",
        "| 2 |    Subtraction   |    `-`   |\n",
        "| 3 |  Multiplication  |    `*`   |\n",
        "| 4 |     Division     |    `/`   |\n",
        "| 5 |  Integer Division (Floor Division) |   `//`   |\n",
        "| 6 |      Modulo      |    `%`   |\n",
        "| 7 |      Power      |   `**`   |\n",
        "\n",
        "</center>\n",
        "\n",
        "Some of these operators can work on non-numeric data types too. However, the arithemtic operation may have different effect on data of different types, which you will be learning later."
      ]
    },
    {
      "cell_type": "markdown",
      "metadata": {
        "id": "he_GM_ChX-e-"
      },
      "source": [
        "Exercise 1.2.1  \n",
        "Try out the following operations and print out the results using the built-in __print()__ function.   \n",
        "\n",
        "\n",
        "```\n",
        "print(1+1)  \n",
        "output: 2\n",
        "```\n",
        "\n",
        "\n",
        "\n",
        "Take note of the errors and consider why do they happen."
      ]
    },
    {
      "cell_type": "markdown",
      "metadata": {
        "id": "gLGIANdoZbyj"
      },
      "source": [
        "**1.** `'7' + '8'`\n",
        "\n",
        "**2.** `'0' * 2`\n",
        "\n",
        "**3.** `7 + '10' `\n",
        "\n",
        "**4.** ` 'One' 'plus Two'`\n",
        "\n",
        "**5.** `12 ** 3`\n",
        "\n",
        "**6.** `'g' ** 4`\n",
        "\n",
        "**7.** `'True' + ' False' `\n",
        "\n",
        "**8.** ` True + False` (Compare this against the previous one)\n",
        "\n",
        "**9.** ` 1.23 * 8`\n",
        "\n",
        "**10.** ` 1.90 + 4`\n",
        "\n",
        "**11.** ` 1.2 * 'one' `\n",
        "\n",
        "**12.** `'5' + 12`\n",
        "\n",
        "**13.** `False/True`\n"
      ]
    },
    {
      "cell_type": "code",
      "execution_count": null,
      "metadata": {
        "id": "gml21D4RZZrl"
      },
      "outputs": [],
      "source": []
    },
    {
      "cell_type": "markdown",
      "metadata": {
        "id": "oV3leFSdoKxF"
      },
      "source": [
        "## Python booleans##\n",
        "\n",
        "Notice that the result of each line above is always `True` or `False`. These are special data types known as **booleans**. There are only two boolean values, and they are the reverse of each other.\n",
        "\n",
        "Run the following expressions one by one in the cell below:\n",
        "\n",
        "1. `type(True)` (booleans are a different data type fron integers, floats, and strings)\n",
        "2. `not True` (The keyword `not` in front of a Boolean reverses its value)\n",
        "3. `not(False)` (`not()` is available for use as a function)\n",
        "4. `int(True), int(False)` (`True` and `False` values are represented as the integers `1` and `0` when converted. You can cast booleans to `float` as well.)\n",
        "5. `str(True), str(False)` (Note that `True` and `False` are not strings. To use them with other strings, they must first be converted.)\n",
        "6. `type(true)` (`True` and `False` booleans are special keywords and must always start with uppercase. `true` and `false` will be treated as variables!)\n",
        "7. `True + 1` (When using booleans with operators, they are automatically casted to numerical values.)\n",
        "8. `print('This sentence is',True)` (When using booleans in sentences that autocast types to strings, `True` and `False` are casted as strings)"
      ]
    },
    {
      "cell_type": "code",
      "execution_count": null,
      "metadata": {
        "id": "rWsRJNSlm5Ov"
      },
      "outputs": [],
      "source": []
    },
    {
      "cell_type": "markdown",
      "metadata": {
        "id": "wcUu6Hytm1pw"
      },
      "source": [
        "### Logical and Comparison Operations\n",
        "\n",
        "- There are several Boolean or logical operations. Here are three you need to know: 1. **and** 2. **or** and 3. **not**\n",
        "\n",
        "- Each logical operation is associated with a truth table, which defines all possible pairs of operand values, and the corresponding resultant value that is attained when the operator in question is applied to the given operands.\n",
        "\n",
        "<center>\n",
        "\n",
        "| x     | y     | x and y | x or y | not x |\n",
        "|-------|-------|--------------|--------|------------|\n",
        "| True  | True  | True    | True   | False |\n",
        "| True  | False | False   | True   | False |\n",
        "| False | True  | False  | True   | True  |\n",
        "| False | False | False   | False  | True  |\n",
        "\n",
        "</center>\n",
        "- Note that:\n",
        "\n",
        ">**1.** The result is `True` if both `x` and `y` are `True`, or else, the result is `False`.\n",
        "\n",
        ">**2.** The result is `True` if `x` is `True` or `y` is `True`, or else, the result is `False`.\n",
        "\n",
        ">**3.** The result is the opposite of the Boolean value of `x`.\n",
        "\n",
        "* Additionally, there are several comparison operations that do not require Boolean operands, but have a Boolean value result:\n",
        "\n",
        "<center>\n",
        "\n",
        "|     Operation    | Symbol |\n",
        "|:----------------:|:------:|\n",
        "|     Less Than     |    `<`   |\n",
        "|    Less Than or Equals   |    `<=`   |\n",
        "|  Equality  |    `==`   |\n",
        "|     Greater Than     |    `>`   |\n",
        "| Greater Than or Equals |   `>=`   |\n",
        "|     Not Equals    |    `!=`   |\n",
        "\n",
        "</center>\n",
        "\n",
        "- As with the arithmetic and logical operations, the above comparison operations take 2 operands, evaluate the associated test, and then have Boolean result.\n",
        "\n",
        "    **e.g.**\n",
        "\n",
        "> `10 < 5` will result in `False`, since 10 is actually greater than 5, not less;\n",
        "\n",
        "> `“abc” == “cba”` will result in False, since the 2 strings are not equivalent.\n"
      ]
    },
    {
      "cell_type": "markdown",
      "metadata": {
        "id": "qfU_PWwxFmto"
      },
      "source": [
        "#### Exercise 1.2.2\n",
        "\n",
        "Boolean operators can seem tricky at first, and it takes practice to evaluate them correctly.\n",
        "\n",
        "Write the value (`True` or `False`) produced by each expression below, using the assigned values of the variables `a`, `b`, and `c`.\n",
        "\n",
        "Try to do this manually, then check your answers using the Jupyter Notebook when you think you've got it.\n",
        "\n",
        "**Hint:** *Work from the inside out, starting with the innermost expressions, similar to arithmetic.*\n",
        "\n",
        "Let:\n",
        "\n",
        "- `a = False`\n",
        "- `b = True`\n",
        "- `c = False`\n",
        "\n",
        "Would the expressions below evaluate to `True` or `False`?\n",
        "\n",
        "**1.** `b and c`\n",
        "\n",
        "**2.** `b or c`\n",
        "\n",
        "**3.** `not a and b`\n",
        "\n",
        "**4.** `(a and b) or not c`\n",
        "\n",
        "**5.** `not b and not (a or c)`"
      ]
    },
    {
      "cell_type": "code",
      "source": [],
      "metadata": {
        "id": "hkXVOspIT1k9"
      },
      "execution_count": null,
      "outputs": []
    },
    {
      "cell_type": "markdown",
      "metadata": {
        "id": "jOIcPwKyk3k2"
      },
      "source": [
        "## Python comparators ##\n",
        "\n",
        "Python provides a few **comparators** for comparing objects or variables.  \n",
        "The comparators return `True` if the expression is true, or `False` if the expression is false. Replace the different comparators in this expression with the other comparators and see what result you get.\n",
        "\n",
        "The following operators are supported:\n",
        "\n",
        "- `a == b` (`a` equal to `b`)  \n",
        "- `a != b` (`a` not equal to `b`)  \n",
        "- `a < b` (`a` less than `b`)  \n",
        "- `a <= b` (`a` less than or equal to `b`)  \n",
        "- `a > b` (`a` greater than `b`)  \n",
        "- `a >= b` (`a` greater than or equal to `b`)\n",
        "\n",
        "Run the following expressions one by one in the cell below:\n",
        "\n",
        "1. `1 == 1`\n",
        "2. `1 == 2`\n",
        "3. `'a' = 'a'` (Comparators work on strings as well.)\n",
        "4. `'a' == 'A'` (lowercase and uppercase strings are treated differently.)\n",
        "5. `(1 + 4) != (2 + 3)` (Python can compare the result of expressions if they are enclosed in parentheses.)\n",
        "6. `1 + 4 == 2 + 3` (... and can do so even if they are not!)\n",
        "7. `'1+4' == '2+3'` (and why are these not the same?)\n",
        "8. `'104' <= '1050'` (Try the comparators with strings. Can you figure out what the rule for comparing strings is?)\n",
        "\n"
      ]
    },
    {
      "cell_type": "code",
      "execution_count": null,
      "metadata": {
        "id": "kEqQ7vCplQBO"
      },
      "outputs": [],
      "source": []
    },
    {
      "cell_type": "code",
      "execution_count": null,
      "metadata": {
        "id": "mWAZyaJKz-VJ"
      },
      "outputs": [],
      "source": []
    },
    {
      "cell_type": "markdown",
      "metadata": {
        "id": "uYlCVd3sWCYD"
      },
      "source": [
        "## Python data type: string\n",
        "\n",
        "Text is stored as a string in Python. Python recognises anything between single-quotes `''` or double-quotes `\"\"` as a string.\n",
        "\n"
      ]
    },
    {
      "cell_type": "markdown",
      "metadata": {
        "id": "2tq0s_ahXhZX"
      },
      "source": [
        "## Python string operators: `+`, `*`\n",
        "\n",
        "Run the following expressions one by one in the cell below:\n",
        "\n",
        "1. `\"This\" \"string\"` (Adjacent strings without any operators will be joined together.)\n",
        "2. `\"This\"+\" \"+\"string\"` (The `+` operator joins strings.)\n",
        "3. `\"This \"+\"joins \"+3+\"strings\"` (The `+` operator only works on expressions with integers *or* strings, but not both.)\n",
        "4. `\"This \"+\"joins \"+str(3)+\"strings\"` (The `str()` function converts integers and floats to strings.)\n",
        "5. `print(\"This\",\"joins\",3,\"strings\")` (The `print()` function outputs multiple strings separated by a space, and **auto-converts other data types to strings**.)\n",
        "6. `\"This\"-\"joins\"` (Strings do not work with the `-` operator, or with `/`, `**` for that matter.)\n",
        "7. `print(\"Many\"*3,\"strings\")` (Strings may be repeated with the `*` operator followed by an integer.)"
      ]
    },
    {
      "cell_type": "code",
      "execution_count": null,
      "metadata": {
        "id": "ZRquTeqoXTSl"
      },
      "outputs": [],
      "source": [
        "# try your codes here\n"
      ]
    },
    {
      "cell_type": "code",
      "source": [
        "print(\"This is a string.\")\n",
        "print(\"Is this a \"string\"?\")\n",
        "print(\"It's a string!\")\n",
        "print('What's a string?')\n",
        "print('''What's a \"string?\"''')\n",
        "print(' What\\'s a \\\"string\\\"?)'\n"
      ],
      "metadata": {
        "colab": {
          "base_uri": "https://localhost:8080/"
        },
        "id": "hBVZfaOIqebK",
        "outputId": "e5f65b94-bf66-4f38-acf3-659c56986ac5"
      },
      "execution_count": null,
      "outputs": [
        {
          "output_type": "stream",
          "name": "stdout",
          "text": [
            "This is a string.\n",
            "Is this a 'string'?\n",
            "It's a string!\n",
            "What's a string?\n",
            "What's a \"string?\"\n",
            " What's a \"string\"?\n"
          ]
        }
      ]
    },
    {
      "cell_type": "markdown",
      "metadata": {
        "id": "2TRpRSkBYA1h"
      },
      "source": [
        "## Python string manipulation methods: `lower()`, `upper()`, `title()`\n",
        "\n",
        "Python has many methods available for use to manipulate strings. We will introduce some of the most commonly used methods below.\n",
        "\n",
        "### `lower()`, `upper()`, `title()` methods\n",
        "\n",
        "The following methods format the string by changing the letter cases:\n",
        "\n",
        "- `lower()` changes a string to all-lowercase letters.\n",
        "- `upper()` changes a string to all-uppercase letters.\n",
        "- `title()` changes a string that starts with an uppercase letter and the remaining characters are lowercase.\n",
        "\n",
        "Run the following code cell to see these methods in action:"
      ]
    },
    {
      "cell_type": "markdown",
      "metadata": {
        "id": "yC5vzhHQYV3J"
      },
      "source": [
        "```\n",
        "  example = \"ThisFormattingIsKnownAsCamelCase\"\n",
        "\n",
        "  print('Lowercase:',example.lower())  \n",
        "  print('Uppercase:',example.upper())  \n",
        "  print('Title Case:',example.title())\n",
        "```"
      ]
    },
    {
      "cell_type": "code",
      "execution_count": null,
      "metadata": {
        "id": "ZULeiGmjYUNd"
      },
      "outputs": [],
      "source": [
        "# copy and paste the code here\n",
        "example = \"ThisFormattingIsKnownAsCamelCase\"\n",
        "\n",
        "print('Lowercase:',example.lower())\n",
        "print('Uppercase:',example.upper())\n",
        "print('Title Case:',example.title())"
      ]
    },
    {
      "cell_type": "markdown",
      "metadata": {
        "id": "bS1qUu1kY-V8"
      },
      "source": [
        "## Accessing subsets of strings: string slicing\n",
        "\n",
        "  Each character in string has its unique index (position of the character), starting from 0 from the left most character.\n",
        "  \n",
        "  Parts of a string can be accessed through **slicing**, where we use square brackets and the index to locate the position of the parts.\n",
        "\n",
        "  E.g\n",
        "\n",
        "\n",
        "\n",
        "```\n",
        "this_string = 'One fine day'\n",
        "\n",
        "print('First character:', this_string[0]\n",
        "  output: 'O'\n",
        "\n",
        "print('Second character:', this_string[1]\n",
        "  output: 'n'\n",
        "```\n",
        "\n",
        "\n",
        "\n",
        "  Run the following code cell to see string slicing in action:"
      ]
    },
    {
      "cell_type": "code",
      "execution_count": null,
      "metadata": {
        "id": "-hN-0v0va5sG"
      },
      "outputs": [],
      "source": [
        "this_string = 'One fine day'"
      ]
    },
    {
      "cell_type": "code",
      "execution_count": null,
      "metadata": {
        "id": "fxJ_0J2kZA90"
      },
      "outputs": [],
      "source": [
        "print('Line 3:',this_string[0:6]) ##You can address a range of characters using the colon (:) symbol.\n",
        "##Note that [0:6] gives the first 6 characters, not the first 7 characters! The last index in a range is ignored."
      ]
    },
    {
      "cell_type": "code",
      "execution_count": null,
      "metadata": {
        "id": "wGHb7XSAa022"
      },
      "outputs": [],
      "source": [
        "print('Line 4:',this_string[:6]) ## same as this_string[0:6]"
      ]
    },
    {
      "cell_type": "code",
      "execution_count": null,
      "metadata": {
        "id": "nopeL3p8a_l4"
      },
      "outputs": [],
      "source": [
        "print('Line 5:',this_string[6:]) ##If the last index is omitted, slicing ends at the last element."
      ]
    },
    {
      "cell_type": "code",
      "execution_count": null,
      "metadata": {
        "id": "PekI63fTbCG9"
      },
      "outputs": [],
      "source": [
        "print('Line 6:',this_string[-1]) ##Negative indexes are allowed. An index of -1 refers to the last element."
      ]
    },
    {
      "cell_type": "code",
      "execution_count": null,
      "metadata": {
        "id": "E-RbSI_3bE4f"
      },
      "outputs": [],
      "source": [
        "print('Line 7:',this_string[-5:-1]) ##You can specify ranges using negative indexes. Note that the last element is ignored.\n",
        "##(Omit the last index to address to the last element.)"
      ]
    },
    {
      "cell_type": "code",
      "execution_count": null,
      "metadata": {
        "id": "DhqBNqBsbH02"
      },
      "outputs": [],
      "source": [
        "print('Line 8:',this_string[:]) ##Omitting both the first and the last index specifies the entire string"
      ]
    },
    {
      "cell_type": "code",
      "execution_count": null,
      "metadata": {
        "id": "8K0_tAAcbK8u"
      },
      "outputs": [],
      "source": [
        "print('Line 9:',this_string[0:5:2]) ##You can specify the **stride** by adding a third number, separated by a colon.\n",
        "##The stride value slices the string, selecting every nth character. Stride length of 2 takes characters with index 0,2,4 (excluding 5)"
      ]
    },
    {
      "cell_type": "code",
      "execution_count": null,
      "metadata": {
        "id": "dpB7uZnvbN_C"
      },
      "outputs": [],
      "source": [
        "print('Line 10:',(this_string[::-1])) ##Can you explain the output for this string slicing?"
      ]
    },
    {
      "cell_type": "markdown",
      "metadata": {
        "id": "ZUpi1A0Is6Na"
      },
      "source": [
        "### Exercise 2: extracting NRIC parts with string slicing\n",
        "\n",
        "Write string-slicing code in the cell below to:\n",
        "\n",
        "1. Select the first letter of the NRIC (the prefix).\n",
        "2. Select the numerical digits of the NRIC (the digits).\n",
        "3. Select the last letter of the NRIC (the suffix)."
      ]
    },
    {
      "cell_type": "code",
      "execution_count": null,
      "metadata": {
        "id": "lRuPdfKzvrIv"
      },
      "outputs": [],
      "source": [
        "nric = 'S1234567A' #Do not remove this line\n",
        "\n",
        "#Replace the blanks below with appropriate expressions:\n",
        "prefix = nric[0]\n",
        "digits = nric[1:-1]\n",
        "suffix = nric[-1]\n",
        "print(prefix,digits,suffix)\n",
        "print(nric[0],nric[1:-1],nric[-1])"
      ]
    },
    {
      "cell_type": "code",
      "execution_count": null,
      "metadata": {
        "id": "xJXm7NCNv2Ip"
      },
      "outputs": [],
      "source": [
        "address = '128 Serangoon Ave 3, S(556111)'\n",
        "\n",
        "postal_code_startindex = address.index('5')\n",
        "\n",
        "#Replace the blanks below with appropriate expressions:\n",
        "postal_code = ______[postal_code_startindex:__]\n",
        "print('Postal code:',postal_code)\n",
        "\n",
        "#or\n",
        "\n",
        "postal_code_startindex = 23\n",
        "postal_code = address[postal_code_startindex:__]\n",
        "\n",
        "#or\n",
        "\n",
        "postal_code = address[postal_code_startindex:__]\n",
        "### END SOLUTION"
      ]
    },
    {
      "cell_type": "markdown",
      "metadata": {
        "id": "GWHm03ZnbzuN"
      },
      "source": [
        "#### Converstion of Data Types\n",
        "\n",
        "  Certain operations can only be taken place between data of the same type, while others do not. Hence, it is important to convert the data type to the required data type.\n",
        "\n",
        "> Integer: `int()`  \n",
        "> String : `str()`  \n",
        "> Float : `float()`  \n",
        "> Boolean: `bool()`  \n",
        "\n"
      ]
    },
    {
      "cell_type": "markdown",
      "metadata": {
        "id": "wiCllOMJePPP"
      },
      "source": [
        "Convert the following values and print out the results.\n",
        "\n",
        "**1.** int `'123'`\n",
        "\n",
        "**2.** float `10`\n",
        "\n",
        "**3.** int `'abc' `\n",
        "\n",
        "**4.** str `10 `\n",
        "\n",
        "**5.** str `True`\n",
        "\n",
        "**6.** float `'123'`\n",
        "\n",
        "**7.** int `'One'`\n"
      ]
    },
    {
      "cell_type": "markdown",
      "metadata": {
        "id": "-Ic1IcvjHA4t"
      },
      "source": [
        "## Variables\n",
        "\n",
        "It would be troublesome if you have to keep typing in all the values in a calculation. Python lets you *assign* a value to a **variable**.\n",
        "\n",
        "In Python, a variable needs a name. Variable names cannot begin with a number; they must begin with a letter or underscore (`_`). Variable names can use letters, numbers, and underscore.\n",
        "\n",
        "**Invalid variable name:** 2023_lessons  \n",
        "**Valid variable name:** _2023lessons, lesson2023  \n",
        "\n",
        "By convention, variables begin with lowercase letters."
      ]
    },
    {
      "cell_type": "markdown",
      "metadata": {
        "id": "fPRV7J5MHRa_"
      },
      "source": [
        "## Assigning values to variables ##\n",
        "\n",
        "In python, values can be assigned to a variable using an equal sign `=`\n",
        "\n",
        "To view the value of a variable in the Python shell, just type its name and run the code in the cell.\n",
        "\n",
        "Run these expressions one by one in the code cell below and see the result.\n",
        "\n",
        "1. `num1 + 2`\n",
        "2. `num1 ** num1`\n",
        "3. `num2 = num1 + 2`"
      ]
    },
    {
      "cell_type": "code",
      "execution_count": null,
      "metadata": {
        "id": "bAaqgar4IrrL",
        "collapsed": true
      },
      "outputs": [],
      "source": [
        "#The next line creates the variable num1.\n",
        "# Subsequent lines of code can access this value.\n",
        "num1 = 2 #Do not remove this line. Type your code below this line.\n",
        "\n",
        "\n",
        "num1 + 2"
      ]
    },
    {
      "cell_type": "markdown",
      "metadata": {
        "id": "9BGLk_k8H6jM"
      },
      "source": [
        "## Inserting comments\n",
        "\n",
        "Did you see this part of the line? `#Do not remove this line. Type your code below this line.`\n",
        "\n",
        "Python ignores everything typed after a `#` in the line. You can use this to insert comments in your code. Comments can be used to make notes for yourself to understand your code later."
      ]
    },
    {
      "cell_type": "markdown",
      "metadata": {
        "id": "gsCcsRnSIJzp"
      },
      "source": [
        "## The `print()` function\n",
        "\n",
        "To make Python **print** the result in the output, we can use the `print()` function. An input variable goes inside the parentheses of the `print()` function.\n",
        "\n",
        "Run the code cell below:"
      ]
    },
    {
      "cell_type": "code",
      "execution_count": null,
      "metadata": {
        "id": "KbbE8xoaHShn"
      },
      "outputs": [],
      "source": [
        "# try running this cell, expected output: Hello World\n",
        "print(\"Hello World\")"
      ]
    },
    {
      "cell_type": "code",
      "execution_count": null,
      "metadata": {
        "id": "2HQ-6X31JSZO"
      },
      "outputs": [],
      "source": [
        "# Try your code in this cell\n",
        "\n",
        "print(num1 + 2)\n",
        "\n",
        "print(1+2)"
      ]
    },
    {
      "cell_type": "code",
      "source": [
        "# print 100 modulo 3\n",
        "\n",
        "\n",
        "\n",
        "# print your own name"
      ],
      "metadata": {
        "id": "rpugZFuGLhfs"
      },
      "execution_count": null,
      "outputs": []
    },
    {
      "cell_type": "markdown",
      "metadata": {
        "id": "YcuaMW23JNLq"
      },
      "source": [
        "Python will **evaluate** the expression within the parentheses \"`()`\" first, and then send the result to the `print()` function."
      ]
    },
    {
      "cell_type": "markdown",
      "metadata": {
        "id": "yRATYNH8wD0o"
      },
      "source": [
        "## Obtaining user input ##\n",
        "\n",
        "Of course, sometimes, you need the user to give you some data for you to use in your program. One way to get simple input is using the `input()` function.\n",
        "\n",
        "Run the expression in the cell below without changing it. Type in different things in the input box and see what you get."
      ]
    },
    {
      "cell_type": "code",
      "execution_count": null,
      "metadata": {
        "id": "4BN-AF0HwV53"
      },
      "outputs": [],
      "source": [
        "var = input('Type something: ')\n",
        "var_type = type(var)\n",
        "print('Your input is type',var_type)"
      ]
    },
    {
      "cell_type": "code",
      "source": [
        "# Ask the user for a number\n",
        "\n",
        "\n",
        "\n",
        "\n",
        "# Cast this number into an integer and store it as a variable\n",
        "\n",
        "\n",
        "\n",
        "\n",
        "# Do the same for another number\n",
        "\n",
        "\n",
        "\n",
        "\n",
        "# Multiply the 2 numbers together\n",
        "\n",
        "\n",
        "\n",
        "\n",
        "\n",
        "# Print the product and the data type of the product\n",
        "\n",
        "\n",
        "\n",
        "\n",
        "\n",
        "\n"
      ],
      "metadata": {
        "id": "BFuxOxlzLoc8"
      },
      "execution_count": null,
      "outputs": []
    },
    {
      "cell_type": "markdown",
      "metadata": {
        "id": "iVQO7VNQJWQ_"
      },
      "source": [
        "## Constants\n",
        "\n",
        "Other programming languages have special variables known as **constants**. Constants are variables whose value **cannot be changed** after they are initially assigned.\n",
        "\n",
        "Python does not support such variables. Instead, by convention, constants are named in all-UPPERCASE. This is a hint to other Python developers that changing its value is a Very Bad Idea."
      ]
    },
    {
      "cell_type": "markdown",
      "metadata": {
        "id": "02jR4G2kJaHs"
      },
      "source": [
        "### Exercise 1: Using a constant\n",
        "\n",
        "Use the constant `PI` below to calcuate the circumference of a circle with radius 1.3."
      ]
    },
    {
      "cell_type": "code",
      "execution_count": null,
      "metadata": {
        "id": "XS5-3wb3Jjms"
      },
      "outputs": [],
      "source": [
        "# Try your code in this cell\n",
        "\n",
        "PI = 3.14159 #Do not remove this line. Type your code below this line.\n",
        "\n",
        "# Complete the code below using the constant PI and\n",
        "# the variable r, and any appropriate operators\n",
        "\n"
      ]
    },
    {
      "cell_type": "markdown",
      "source": [
        "### Flow Control\n",
        "\n",
        "Write a program that gets the user's name and their preferred language, for example, English, Italian, French, Spanish or German. (feel free to add other languages!)\n",
        "\n",
        "Example: \"Manuel\" is their name and they chose \"Spanish\", they will be greeted with \"¡Buenos días, Manuel!\"\n",
        "Refer to the table below for greetings in some other languages.\n",
        "\n",
        "If the chosen language is not supported, it should print an error message: \"Sorry, I do not speak this language.\"\n",
        "\n",
        "Here is an example input and outputs:\n",
        "* Please enter your name: Alice Please enter your preferred language (): Italian Ciao, Alice!"
      ],
      "metadata": {
        "id": "NrtBMjIHMFMP"
      }
    },
    {
      "cell_type": "code",
      "source": [
        "# Ask the user for a number\n",
        "\n",
        "# Cast this number into an integer and store it as a variable\n",
        "\n",
        "# Do the same for another number\n",
        "\n",
        "# Multiply the 2 numbers together\n",
        "\n",
        "# Print the product and the data type of the product"
      ],
      "metadata": {
        "id": "fn7zRds1MF0Q"
      },
      "execution_count": null,
      "outputs": []
    },
    {
      "cell_type": "markdown",
      "metadata": {
        "id": "bKsOsShLBtGZ"
      },
      "source": [
        "### List slicing\n",
        "\n",
        "List slicing allow you to return multiple elements from a list, just as string slicing allows you to return substrings of characters from a string.\n",
        "\n",
        "Try the following lines of code one by one in the cell below:\n",
        "\n",
        "`yourlist = [\"Alice\", \"Bob\", \"Charlie\", \"Dawn\", \"Ernest\"]`\n",
        "1. `yourlist[0:0]`\n",
        "2. `yourlist[0:1]`\n",
        "3. `yourlist[0:4]`\n",
        "4. `yourlist[0:6]`\n",
        "5. `yourlist[0:5:2]`\n",
        "6. `yourlist[0:4:2]`\n",
        "7. `yourlist[0::2]`\n",
        "8. `yourlist[::-1]`\n",
        "9. `yourlist[0:4:-1]`\n",
        "10. `yourlist[4:0:-1]`\n",
        "11. `type(yourlist[0:0])`"
      ]
    },
    {
      "cell_type": "code",
      "execution_count": null,
      "metadata": {
        "id": "dWe4x5GzBvVP"
      },
      "outputs": [],
      "source": [
        "yourlist = [\"Alice\", \"Bob\", \"Charlie\", \"Dawn\", \"Ernest\"] # Do not remove this line."
      ]
    },
    {
      "cell_type": "code",
      "execution_count": null,
      "metadata": {
        "id": "o-6dtKUeCP_f"
      },
      "outputs": [],
      "source": [
        "# How does yourlist[0:1] differ from yourlist[0]"
      ]
    },
    {
      "cell_type": "code",
      "execution_count": null,
      "metadata": {
        "id": "QSM_oG3xCW3M"
      },
      "outputs": [],
      "source": [
        "# Why doesn't yourlist[0:4] return the whole list?"
      ]
    },
    {
      "cell_type": "code",
      "execution_count": null,
      "metadata": {
        "id": "rWNghYasCcn7"
      },
      "outputs": [],
      "source": [
        "# If the slice exceeds the largest index, you won't get an error but those indices will be ignored."
      ]
    },
    {
      "cell_type": "code",
      "execution_count": null,
      "metadata": {
        "id": "sHeqv9wSCgQR"
      },
      "outputs": [],
      "source": [
        "# What is the significance of the third number in a slicing operation?"
      ]
    },
    {
      "cell_type": "code",
      "execution_count": null,
      "metadata": {
        "id": "fTDBbDQlCihE"
      },
      "outputs": [],
      "source": [
        "# Why is `yourlist[4]` not in the result yourlist[0:4:2]?"
      ]
    },
    {
      "cell_type": "code",
      "execution_count": null,
      "metadata": {
        "id": "A9tE9lnKC5xi"
      },
      "outputs": [],
      "source": [
        "# What happens when you remove any of the numbers in the slicing operation?\n",
        "# Can you figure out the default values when they are not included in the slicing operation?"
      ]
    },
    {
      "cell_type": "code",
      "execution_count": null,
      "metadata": {
        "id": "CxeX-KRpC64u"
      },
      "outputs": [],
      "source": [
        "# How do you reverse a list?"
      ]
    },
    {
      "cell_type": "code",
      "execution_count": null,
      "metadata": {
        "id": "HMgpQcyLC97w"
      },
      "outputs": [],
      "source": [
        "# Why does yourlist[0:4:-1] not work?"
      ]
    },
    {
      "cell_type": "code",
      "execution_count": null,
      "metadata": {
        "id": "pxCIaY0xDBRv"
      },
      "outputs": [],
      "source": [
        "# Is yourlist[4:0:-1] the same as yourlist[::-1]?"
      ]
    },
    {
      "cell_type": "code",
      "execution_count": null,
      "metadata": {
        "id": "c4qENB714r3J"
      },
      "outputs": [],
      "source": []
    },
    {
      "cell_type": "markdown",
      "source": [
        "#### Flow Control with Booleans\n",
        "Revision of boolean operators:\n",
        "1. \"and\" - used when you want something to be True only if both parts are True. e.g. \"I will go eat at that coffeeshop if it is open and it is not raining.\"\n",
        "2. \"or\" - used when you're okay with either of the conditions being True. e.g. \"I will go to that party if my friend is going or if there is good food.\"\n",
        "3. \"not\" - used to flip True to False, or False to True\n",
        "\n",
        "Task 1: Write a code that gets the user’s name, and the hour now (only the hour, from 0-23. For example: 15, for 15:00PM).\n",
        "\n",
        "* If it is morning, it will greet the user “Good morning!”.\n",
        "* If it’s noon, it will greet the user “Good day!”.\n",
        "* In the afternoon, the greeting will be “Good afternoon!”.\n",
        "* In the evening, the greeting will be “Good evening!”.\n",
        "* And finally, in the night, it will greet “Good night!”.\n"
      ],
      "metadata": {
        "id": "Z41iYku4MW8K"
      }
    },
    {
      "cell_type": "code",
      "source": [
        "# Task 1: The Greeting Generator (based on time)\n",
        "#hint: this requires you to use \"and\", \"or\", and/or \"not\"."
      ],
      "metadata": {
        "id": "FTS-sqfHMctY"
      },
      "execution_count": null,
      "outputs": []
    },
    {
      "cell_type": "markdown",
      "source": [
        "Task 2: Create a simple calculator\n",
        "1. Display a welcome message.\n",
        "2. Ask the user to enter an operation (addition/subtraction/multiplication/division)\n",
        "3. Ask the user to enter 2 numbers for calculation.\n",
        "4. Use if-elif-else statements to determine the operation\n",
        "5. Handle errors! e.g. division by 0 is not possible, invalid operation inputs\n",
        "6. Print the result\n",
        "7. Extension: add more operations e.g. exponentiaton\n",
        "\n",
        "Example:\n",
        "* Welcome to the Command Line Calculator!\n",
        "* Enter operation (add, subtract, multiply, divide): add\n",
        "* Enter the first number: 5\n",
        "* Enter the second number: 3\n",
        "* Result: 5 + 3 = 8"
      ],
      "metadata": {
        "id": "iVyU4aWZMmGX"
      }
    },
    {
      "cell_type": "code",
      "source": [
        "# Task 2: Create a simple calculator"
      ],
      "metadata": {
        "id": "sNQtTOhhMnxU"
      },
      "execution_count": null,
      "outputs": []
    },
    {
      "cell_type": "markdown",
      "metadata": {
        "id": "7mOEanmLtUYc"
      },
      "source": [
        "## If Statement\n",
        "An if statement in Python is a conditional statement that allows you to execute a block of code only if a certain condition is true. It follows this general syntax:\n",
        "\n",
        "\n",
        "```\n",
        "if (condition):\n",
        "    # code block to execute if condition is true\n",
        "```\n",
        "You can also add an optional else clause to execute a block of code when the condition is false:\n",
        "\n",
        "\n",
        "```\n",
        "if (condition):\n",
        "    # code block to execute if condition is true\n",
        "else:\n",
        "    # code block to execute if condition is false\n",
        "```\n",
        "\n",
        "Additionally, you can use elif (short for \"else if\") to check multiple conditions:\n",
        "\n",
        "```\n",
        "if (condition1):\n",
        "    # code block to execute if condition1 is true\n",
        "elif (condition2):\n",
        "    # code block to execute if condition1 is false and condition2 is true\n",
        "else:\n",
        "    # code block to execute if both condition1 and condition2 are false\n",
        "```\n",
        "In Python, the condition can be any expression that evaluates to a boolean value (True or False).\n",
        "\n",
        "You can use comparison operators (like <, >, ==, !=, etc.), logical operators (like and, or, not), or even the truthiness of values (e.g., non-empty strings, non-zero numbers, etc.) to form the condition.  \n",
        "Remember that there is an indentation after each colon `:`\n",
        "\n",
        "\n"
      ]
    },
    {
      "cell_type": "markdown",
      "metadata": {
        "id": "IyMFIEv3qsWt"
      },
      "source": [
        "Example:\n",
        "\n",
        "\n",
        "```\n",
        "  score = 75\n",
        "\n",
        "  if score >= 90:\n",
        "      print(\"A\")\n",
        "  elif score >= 80:\n",
        "      print(\"B\")\n",
        "  elif score >= 70:\n",
        "      print(\"C\")\n",
        "  elif score >= 60:\n",
        "      print(\"D\")\n",
        "  else:\n",
        "      print(\"F\")\n",
        "\n",
        "```\n",
        "\n"
      ]
    },
    {
      "cell_type": "markdown",
      "metadata": {
        "id": "G287HbyvG9wG"
      },
      "source": [
        "if else statement can also be used with boolean values\n",
        "\n",
        "Example:\n",
        "\n",
        "\n",
        "```\n",
        "  Sunny = True\n",
        "  weather = Sunny\n",
        "\n",
        "  if weather == Sunny:\n",
        "    print(\"Have a run\")\n",
        "  else:\n",
        "    print(\"Bring an umberalla\")\n",
        "```\n",
        "\n"
      ]
    },
    {
      "cell_type": "markdown",
      "metadata": {
        "id": "_nOb3YuX4SSZ"
      },
      "source": [
        "####Exercise 1\n",
        "\n",
        "Write a Python program to guess a number between 1 and 9.\n",
        "Note : User is prompted to enter a guess. If the user guesses wrong then the prompt appears again until the guess is correct, on successful guess, user will get a \"Well guessed!\" message, and the program will exit."
      ]
    },
    {
      "cell_type": "code",
      "execution_count": null,
      "metadata": {
        "id": "QjCmVlJ6lwZM"
      },
      "outputs": [],
      "source": []
    },
    {
      "cell_type": "markdown",
      "metadata": {
        "id": "NoDzVyH8yW-j"
      },
      "source": [
        "### Exercise 2\n",
        "\n",
        "As the royal age classifier, you have been bestowed with the magical ability to discern a person's age.\n",
        "\n",
        "Your classification goes as follows:\n",
        "- If the age is 0 to 2 (inclusive), they are considered an \"Infant\".\n",
        "- If the age is 3 to 12 (inclusive), they are known as a \"Child\".\n",
        "- If the age is 13 to 19 (inclusive), they are called a \"Teenager\".\n",
        "- If the age is 20 to 64 (inclusive), they are classified as an \"Adult\".\n",
        "- If the age is 65 or older, they are revered as a \"Senior\".\n",
        "\n",
        "One day, a traveler from a distant land arrives at the gates of Ageonia.\n",
        "The traveler appears weary from their journey, and the royal guard leads them to you for classification.\n",
        "\n",
        "Your task is to determine the traveler's age category and welcome them accordingly."
      ]
    },
    {
      "cell_type": "code",
      "execution_count": null,
      "metadata": {
        "id": "Pxrxj1sz5BG_"
      },
      "outputs": [],
      "source": []
    },
    {
      "cell_type": "markdown",
      "metadata": {
        "id": "4n__ZmH6w_nE"
      },
      "source": [
        "##Nested if else statments\n",
        "\n",
        "Nested if-else statements is the situation where an if-else statement is nested within another if-else block. This is a way to create more complex decision-making structures in your code.\n",
        "\n",
        "\n",
        "Example:\n",
        "\n",
        "\n",
        "```\n",
        "x = 10\n",
        "y = 5\n",
        "\n",
        "if x > y:\n",
        "    print(\"x is greater than y\")\n",
        "else:\n",
        "    if x < y:\n",
        "        print(\"x is less than y\")\n",
        "    else:\n",
        "        print(\"x is equal to y\")\n",
        "```\n",
        "\n",
        "\n",
        "If `x` > `y` == `True`, it prints `\"x is greater than y\"` .  \n",
        "If `x` > `y` == `False`, the else is executed, which contains another if-else statement.  \n",
        "The nested if-else statement inside the else block checks if x is less than y.  \n",
        "If `x` < `y` == `True`, it prints \"x is less than y\".  \n",
        "If `x` < `y` == `False`, the else of the nested if-else is executed, printing \"x is equal to y\"."
      ]
    },
    {
      "cell_type": "markdown",
      "metadata": {
        "id": "XEoLlxl-04l9"
      },
      "source": [
        "###Exercise 3\n",
        "\n",
        "Write a Python program that takes three integer inputs representing the lengths of the sides of a triangle and classifies it as either equilateral, isosceles, or scalene.  \n",
        "\n",
        "Here are the definitions of each type of triangle:\n",
        "\n",
        "- Equilateral triangle: All sides are of equal length.  \n",
        "- Isosceles triangle: Two sides are of equal length, and the third side is of a - different length.  \n",
        "- Scalene triangle: All sides are of different lengths.  \n",
        "\n",
        "Your program should ask the user to input the lengths of the three sides and then output the type of triangle."
      ]
    },
    {
      "cell_type": "code",
      "execution_count": null,
      "metadata": {
        "id": "krX5ks_A03sx"
      },
      "outputs": [],
      "source": []
    },
    {
      "cell_type": "markdown",
      "metadata": {
        "id": "jDDRQRkg6gPJ"
      },
      "source": [
        "##For loop\n",
        "\n",
        "A for loop in Python is used to iterate over a sequence of elements, such as a list, tuple, string, or any other iterable object. Here's a basic explanation of how it works:\n",
        "\n",
        "- Initialization: The loop starts by initializing a variable (often called the loop variable) to the first value in the sequence.\n",
        "\n",
        "- Iteration: The loop body is executed for each item in the sequence. During each iteration, the loop variable takes on the value of the current item in the sequence.\n",
        "\n",
        "- Termination: The loop continues iterating until it has processed all the items in the sequence.\n",
        "\n",
        "Here's a simple example:\n",
        "\n",
        "```\n",
        "# Iterate over a list of numbers\n",
        "numbers = [1, 2, 3, 4, 5]\n",
        "for num in numbers:\n",
        "    print(num)\n",
        "\n",
        "~ 1\n",
        "  2\n",
        "  3\n",
        "  4\n",
        "  5\n",
        "```\n",
        "In this example:\n",
        "\n",
        "The loop variable num is initialized to the first value in the numbers list, which is 1.\n",
        "The loop body (in this case, print(num)) is executed with num equal to 1.\n",
        "Then the loop continues with num taking the next value in the list (2), and so on, until it reaches the end of the list.\n",
        "\n",
        "You can also iterate over other types of sequences, like strings:\n",
        "\n",
        "```\n",
        "# Iterate over a string\n",
        "word = \"Python\"\n",
        "for char in word:\n",
        "    print(char)\n",
        "\n",
        "~ P\n",
        "  y\n",
        "  t\n",
        "  h\n",
        "  o\n",
        "  n\n",
        "```\n",
        "\n",
        "This loop will print each character in the string \"Python\" on a separate line.\n",
        "\n",
        "And that's the basic idea of how a for loop works in Python! It's a powerful tool for performing repetitive tasks on sequences of data."
      ]
    },
    {
      "cell_type": "markdown",
      "metadata": {
        "id": "7g_xoV4W2Nbt"
      },
      "source": [
        "### range()\n",
        "\n",
        "However, there are some non-iterable objects in Python such as Integer, Float, and Boolean which for loops cannot be used on.\n",
        "\n",
        "for example\n",
        "\n",
        "\n",
        "\n",
        "```\n",
        "for x in range(10):\n",
        "  print(x)\n",
        "\n",
        "TypeError: 'int' object is not iterable\n",
        "\n",
        "```\n",
        "\n",
        "instead, a common way of using for loop to iterate through a specific times given by the value of an integar is the use of `range() ` function\n",
        "\n",
        "```\n",
        "for x in 10:\n",
        "  print(x)\n",
        "\n",
        "~ 10\n",
        "  9\n",
        "  8\n",
        "  ...\n",
        "  1\n",
        "\n",
        "```\n",
        "\n",
        "A `range()` function with a parameter of integer `n` will create a iterable object of 1,2,3...n.\n",
        "\n",
        "Try with different values to see the result."
      ]
    },
    {
      "cell_type": "code",
      "execution_count": null,
      "metadata": {
        "id": "GbFo3a0J3_RZ"
      },
      "outputs": [],
      "source": [
        "for x in ____:\n",
        "  print(___)"
      ]
    },
    {
      "cell_type": "markdown",
      "metadata": {
        "id": "CdIX51Js61G9"
      },
      "source": [
        "### Exercise 4\n",
        "\n",
        "Write a Python program that calculates the sum of all the numbers in a list.\n",
        "\n",
        "* lis = [1,2,3,4,5]\n",
        "* Use a for loop to iterate through each number in the list.\n",
        "* Add the each number starting at the end of the list and print out the value of every sum.  \n",
        "* Print out the total sum at the end with a message: \" the total sum is {total_sum} \""
      ]
    },
    {
      "cell_type": "code",
      "execution_count": null,
      "metadata": {
        "id": "4NHNDvuc8x4k"
      },
      "outputs": [],
      "source": []
    },
    {
      "cell_type": "markdown",
      "metadata": {
        "id": "tkFHEOYE_7uQ"
      },
      "source": [
        "###Exercise 5\n",
        "\n",
        "Write a Python program that calculates the sum of all even numbers from 1 to a given positive integer n.\n",
        "\n",
        "Here are the steps to complete the exercise:\n",
        "\n",
        "\n",
        "\n",
        "*  Take an integer input n from the user.\n",
        "*  Use a for loop to iterate through all numbers from 1 to n.\n",
        "*  Within the loop, check if each number is even.\n",
        "*  If the number is even, add it to a running total.\n",
        "*  After the loop finishes, print out the sum of all even numbers.\n",
        "\n",
        "\n"
      ]
    },
    {
      "cell_type": "code",
      "execution_count": null,
      "metadata": {
        "id": "jXd_zz2T6w3o"
      },
      "outputs": [],
      "source": []
    },
    {
      "cell_type": "markdown",
      "metadata": {
        "id": "xENgqB-UYH-L"
      },
      "source": [
        "#While loop\n",
        "Unlike a for loop, a while loop in Python repeatedly executes a block of code as long as the specified condition is true.\n",
        "\n",
        "Syntax:\n",
        "```\n",
        "while condition:\n",
        "    # Code to be executed while condition is true\n",
        "```\n",
        "The condition is a boolean expression that determines whether the loop should continue executing.\n",
        "\n",
        "Example:\n",
        "\n",
        "```\n",
        "  count = 0\n",
        "  while count < 5:\n",
        "      print(\"Count:\", count)\n",
        "      count += 1\n",
        "\n",
        "Output:\n",
        "#since count less than 5, execute\n",
        "Count: 0\n",
        "Count: 1\n",
        "Count: 2\n",
        "Count: 3\n",
        "Count: 4\n",
        "#Since count = 5, the program terminates .\n",
        "```\n",
        "\n"
      ]
    },
    {
      "cell_type": "markdown",
      "metadata": {
        "id": "-ZGhefDOaUP1"
      },
      "source": [
        "###infinite Loops:\n",
        "When while loops, always be cautious as an incorrect condition may lead to an infinite loop (a loop that never ends).  \n",
        "Use appropriate conditions and ensure that the condition becomes `False` at some point to exit the loop.\n",
        "\n",
        "Example:\n",
        "```\n",
        "  while True:\n",
        "      print(\"This is an infinite loop!\")\n",
        "```\n",
        "or\n",
        "```\n",
        "  while 2 > 1:\n",
        "    print(\"This is an infinite loop!\")\n",
        "```\n",
        "\n",
        "As a result, you always need a counter, or loop control statement inside the loop.\n"
      ]
    },
    {
      "cell_type": "markdown",
      "metadata": {
        "id": "SBgm9IPccEny"
      },
      "source": [
        "###Exercise 1: Guessing Game\n",
        "\n",
        "Write a Python program that generates a random number between 1 and 100 (inclusive) and asks the user to guess the number. The program should provide feedback to the user after each guess, indicating whether the guessed number is too high, too low, or correct. The program should continue running until the user guesses the correct number."
      ]
    },
    {
      "cell_type": "code",
      "execution_count": null,
      "metadata": {
        "id": "bwg5_iAJcWp5"
      },
      "outputs": [],
      "source": [
        "import random\n",
        "# Generate a random number between 1 and 100\n",
        "target_number = random.randint(1, 100)\n",
        "\n",
        "# Initialize variables\n",
        "guess = None\n",
        "attempts = 0\n",
        "\n",
        "# Main loop\n",
        "while _______ : #fill in the blank\n",
        "    # Ask the user for a guess\n",
        "    guess = int(input(\"Guess the number between 1 and 100: \"))\n",
        "    attempts += 1\n",
        "\n",
        "    # Check if the guess is correct\n",
        "    if ______ : # fill in the blank\n",
        "        print(f\"Congratulations! You guessed the number {target_number} correctly in {attempts} attempts.\")\n",
        "    elif ________: # fill in the blank\n",
        "        print(\"Too low! Try again.\")\n",
        "    else:\n",
        "        print(\"Too high! Try again.\")"
      ]
    },
    {
      "cell_type": "markdown",
      "metadata": {
        "id": "Oy5RYdri_9Fp"
      },
      "source": [
        "## Python lists\n",
        "\n",
        "A Python list is a simple collection of data. The data can be from the same type or differen types.\n",
        "\n",
        "<img src=\"https://encrypted-tbn0.gstatic.com/images?q=tbn:ANd9GcSqXDu1eMKV2m_WCCr1UzUTwWuQjX5Gz0dLZirtQMXIkHFmYtBxOG04hkXXk2oTxRI8qqE&usqp=CAU\">\n",
        "\n",
        "You can initialise a Python list from a collection of data by enclosing them in a pair of square brackets`[]`, then separating each piece of data with a comma `,`.\n",
        "\n",
        "Try the following lines of code one by one in the cell below:\n",
        "\n",
        "1. `list_ = [1, 2, 3, 4, 5]`\n",
        "3. `list_ = ['apple', 'blueberry', 'carrot',]`\n",
        "2. `list_ = [1, '2', 3.0, True, 'apple']`\n",
        "4. `list_ = []`"
      ]
    },
    {
      "cell_type": "code",
      "execution_count": null,
      "metadata": {
        "id": "L543xR2hAZot"
      },
      "outputs": [],
      "source": []
    },
    {
      "cell_type": "markdown",
      "metadata": {
        "id": "VKWcl9r4BTnr"
      },
      "source": [
        "### List indexing\n",
        "\n",
        "List indexing works similar to string indexing. In fact, strings are implemented in Python internally as a special type of list.\n",
        "\n",
        "Each item in a list is called an **element**. The elements of a list can be retrieved using their **index**.\n",
        "\n",
        "The first element of a list has index `0`. Hence `list[0]` returns the first element of the list; `list[1]` returns the second element, and so on.\n",
        "\n",
        "Try the following lines of code one by one in the cell below:\n",
        "\n",
        "`mylist = [1, 2, 3, 4, 5]`\n",
        "1. `type(mylist)`\n",
        "2. `mylist[0]`\n",
        "3. `mylist[5]`\n",
        "4. `mylist[1.0]`\n",
        "5. `mylist[]`\n",
        "6. `mylist[-1]`"
      ]
    },
    {
      "cell_type": "markdown",
      "metadata": {
        "id": "bRSiNVuI-PtW"
      },
      "source": [
        "###Change Item Value  \n",
        "To change the value of a specific item, refer to the index number:\n",
        "\n",
        "Example: Changing the second item\n",
        "\n",
        "```\n",
        "  lis = [\"apple\", \"banana\", \"cherry\"]\n",
        "  lis[1] = \"blackcurrant\"\n",
        "  print(lis)\n",
        "  \n",
        "output: \"apple\", \"blackcurrant\", \"cherry\"]\n",
        "```\n",
        "\n"
      ]
    },
    {
      "cell_type": "markdown",
      "metadata": {
        "id": "RXdb50kn_ju5"
      },
      "source": [
        "### Insert Items\n",
        "To insert a new list item, without replacing any of the existing values, we can use the insert() method.\n",
        "\n",
        "The `insert()` method inserts an item at the specified index:\n",
        "\n",
        "Example\n",
        "Insert \"watermelon\" as the third item:\n",
        "\n",
        "\n",
        "\n",
        "```\n",
        "lis = [\"apple\", \"banana\", \"cherry\"]\n",
        "lis.insert(2, \"watermelon\")\n",
        "print(lis)\n",
        "\n",
        "~[\"apple\", \"banana\", \"watermelon\", \"cherry\"]\n",
        "```\n",
        "\n"
      ]
    },
    {
      "cell_type": "code",
      "execution_count": null,
      "metadata": {
        "id": "x7o6EsJ8Afub"
      },
      "outputs": [],
      "source": []
    },
    {
      "cell_type": "markdown",
      "metadata": {
        "id": "qptEmSbHF75j"
      },
      "source": [
        "###Append Items\n",
        "To add an item to the end of the list, use the append() method:\n",
        "\n",
        "Example\n",
        "Using the `append()` method to append an item:\n",
        "```\n",
        "lis = [\"apple\", \"banana\", \"cherry\"]\n",
        "lis.append(\"orange\")\n",
        "print(lis)\n",
        "\n",
        "~[\"apple\", \"banana\", \"cherry\", \"orange\"]\n",
        "```\n",
        "\n",
        "You can also concatenate two lists together using + sign\n",
        "\n",
        "Example  \n",
        "```\n",
        "lis = [\"apple\", \"banana\", \"cherry\"]\n",
        "lis = lis + [\"orange\"]\n",
        "print(lis)\n",
        "\n",
        "~[\"apple\", \"banana\", \"cherry\", \"orange\"]\n",
        "```"
      ]
    },
    {
      "cell_type": "code",
      "execution_count": null,
      "metadata": {
        "id": "eWytz1IpF7DP"
      },
      "outputs": [],
      "source": []
    },
    {
      "cell_type": "markdown",
      "metadata": {
        "id": "ezdqsESM_FPE"
      },
      "source": [
        "### Removing items\n",
        "To remove an item from the list, you can use the `.pop()` method. By default, it will remove the last item of the list, however, you can change the item to be removed using the index of the item\n",
        "\n",
        "syntax:\n",
        "```\n",
        "lis = [1,2,3,4,5]\n",
        "lis.pop()\n",
        "print(lis)\n",
        "\n",
        "~[1,2,3,4]\n",
        "  \n",
        "```\n",
        "\n",
        "```\n",
        "lis = [1,2,3,4,5]\n",
        "lis.pop(1)\n",
        "print(lis)\n",
        "\n",
        "~[1,3,4,5]\n",
        "```\n"
      ]
    },
    {
      "cell_type": "code",
      "execution_count": null,
      "metadata": {
        "id": "ZIBcB19c_gAN"
      },
      "outputs": [],
      "source": []
    },
    {
      "cell_type": "markdown",
      "metadata": {
        "id": "Txs183dI06y9"
      },
      "source": [
        "#Introduction of Tuples  \n",
        "A Tuple is a collection of Python objects which is immutable, i.e. not modifiable after creation.\n",
        "\n"
      ]
    },
    {
      "cell_type": "markdown",
      "metadata": {
        "id": "HNX8tnfR1Esc"
      },
      "source": [
        "###Mutability  \n",
        "In Python, mutability refers to the ability of an object to be changed after it has been created.\n",
        "\n",
        "Objects that are mutable can be modified in-place, meaning that their values can be updated without creating a new object. Conversely, objects that are immutable cannot be changed once they are created.\n",
        "\n",
        "<div style= 'height: auto'>\n",
        "  <img src= 'https://storage.googleapis.com/algodailyrandomassets/curriculum/blogs/mutablevsimm.png' width= '500px'>\n",
        "</div>\n",
        "\n",
        "<h3> Here are some examples of mutable objects </h3>\n",
        "\n",
        "<div style= 'height: auto'>\n",
        "  <img src = 'https://www.scientecheasy.com/wp-content/uploads/2023/01/mutable-and-immutable-in-python.png' width = '800px'>\n",
        "</div>\n"
      ]
    },
    {
      "cell_type": "code",
      "execution_count": null,
      "metadata": {
        "id": "xpPka5112YBz"
      },
      "outputs": [],
      "source": [
        "# Lists are mutable\n",
        "\n",
        "my_list = [1, 2, 3]\n",
        "print(my_list)  # prints [1, 2, 3]\n",
        "\n",
        "my_list[0] = 4\n",
        "print(my_list)  # prints [4, 2, 3]\n",
        "\n",
        "my_list[2] = 8\n",
        "print(my_list)  # prints [4, 2, 8]"
      ]
    },
    {
      "cell_type": "markdown",
      "metadata": {
        "id": "3aIaMdPf2boF"
      },
      "source": [
        "In the above example, observe that the elements in my_list can be changed internally by assigning a new value to the element by locating the existing value using list-indexing.\n",
        "\n",
        "Here my_list has been modified and no new list is created.\n",
        "\n",
        "This is an example of modifying in-place without creating a new object"
      ]
    },
    {
      "cell_type": "code",
      "execution_count": null,
      "metadata": {
        "id": "w9nzakNt2au3"
      },
      "outputs": [],
      "source": [
        "# Strings are immutable\n",
        "\n",
        "my_string = \"hello\"\n",
        "my_string[0] = \"H\"  # Raises TypeError: 'str' object does not support item assignment"
      ]
    },
    {
      "cell_type": "markdown",
      "metadata": {
        "id": "CzmC6s4f2iOn"
      },
      "source": [
        "In the above example, attempting to replace the lower case h with an upper case H results in an error.\n",
        "\n",
        "This is an example of an object that cannot be modified after creation.\n",
        "\n",
        "The only way to create the word Hello is to create a new string object e.g. my_string_2 = Hello."
      ]
    },
    {
      "cell_type": "markdown",
      "metadata": {
        "id": "ioOJEa662zJO"
      },
      "source": [
        "###Creating a Tuple\n",
        "A tuple can be created with a collection of items by surrounding it with parentheses \"( )\", seperating each item in the collection with a comma \",\".\n",
        "\n",
        "To create an empty tuple, use ()\n",
        "To create a single-item tuple, it is mandatory to add comma , behind the element. E.g. tup = (3,)\n",
        "\n",
        "Example\n",
        "\n",
        "```\n",
        "t = (1, 2, 3, 4)\n",
        "print(t, type(t))\n",
        "\n",
        "~(1, 2, 3, 4) <class 'tuple'>\n",
        "```"
      ]
    },
    {
      "cell_type": "markdown",
      "metadata": {
        "id": "X-vLO5it3TRc"
      },
      "source": [
        "###Accessing Elements  \n",
        "Just like strings and lists, indexing can be used to access items in a tuple.\n",
        "\n",
        "```\n",
        "fruits = ('apple', 'banana', 'cherry', 'durian')\n",
        "\n",
        "print(fruits[1], fruits[3])\n",
        "print(fruits[-3], fruits[-1])\n",
        "\n",
        "~banana durian\n",
        "~banana durian\n",
        "```"
      ]
    },
    {
      "cell_type": "markdown",
      "metadata": {
        "id": "jqFkF-Y7LxX6"
      },
      "source": [
        "#Dictionary\n",
        "In Python, a dictionary is an unordered collection of data values, used to store key-value pairs.\n",
        "\n",
        "A dictionary in Python is like a real-world dictionary, but instead of words and their meanings, it stores pairs of data. Each pair consists of a key and a value.\n",
        "<br>\n",
        "\n",
        "| key (word) | values (definition) |\n",
        "|-----------------|-----------------|\n",
        "| python    | ...    |\n",
        "| string    | ...    |\n",
        "| list      | ...    |\n",
        "\n",
        "<br>\n",
        "The key is like a word, and the value is like its definition. You use the key to find the corresponding value. Keys are unique, meaning each key can only appear once in a dictionary. Values, on the other hand, can be anything: numbers, strings, lists, or even other dictionaries."
      ]
    },
    {
      "cell_type": "markdown",
      "metadata": {
        "id": "Lz4y9vjxMlUo"
      },
      "source": [
        "Example:\n",
        "\n",
        "copy and paste this into your code\n",
        "```\n",
        "  dic = {\n",
        "    \"brand\": \"Ford\",\n",
        "    \"model\": \"Mustang\",\n",
        "    \"year\": 1964\n",
        "  }\n",
        "  print(dic)\n",
        "\n",
        "```\n",
        "\n"
      ]
    },
    {
      "cell_type": "code",
      "execution_count": null,
      "metadata": {
        "id": "6_uuyqarLtdZ"
      },
      "outputs": [],
      "source": []
    },
    {
      "cell_type": "markdown",
      "metadata": {
        "id": "HR053i7QWTIb"
      },
      "source": [
        "###Creating a dictionary\n",
        "\n",
        "A dictionary is created with a collection of key-value pairs surrounded by curly brackets `{}`, with each key-value pair seperated by a comma `,`.\n",
        "\n",
        "* To create an empty dictionary, simply use `{}`\n",
        "* Each key and its corresponding value is separated by a colon `:`\n",
        "* The key needs to be an **immutable** data type, e.g. string, integer, tuple\n",
        "\n",
        "<br>\n",
        "\n",
        "**Try it yourself**\n",
        "\n",
        "Create a dictionary `fruits`, which has following keys and values.\n",
        "\n",
        "| Key | Value    |\n",
        "|-----|----------|\n",
        "| a   | Apple    |\n",
        "| b   | Banana   |\n",
        "| c   | Cherries |\n",
        "| d   | Durian   |"
      ]
    },
    {
      "cell_type": "code",
      "execution_count": null,
      "metadata": {
        "id": "naxisBgnWfZd"
      },
      "outputs": [],
      "source": []
    },
    {
      "cell_type": "markdown",
      "metadata": {
        "id": "AUkWcrX5OQKa"
      },
      "source": [
        "### Getting a value from dictionary\n",
        "Unlike list, Dictionary items are ordered, changeable, and do not allow duplicates.\n",
        "\n",
        "Dictionary items are presented in key:value pairs, and can be referred to by using the key name\n",
        "\n",
        "example:  \n",
        "Print the \"brand\" value of the dictionary:\n",
        "\n",
        "```\n",
        "  dic = {\n",
        "    \"brand\": \"Ford\",\n",
        "    \"model\": \"Mustang\",\n",
        "    \"year\": 1964\n",
        "  }\n",
        "  print(dic[\"brand\"])\n",
        "\n",
        "output: \"Ford\"\n",
        "\n",
        "```\n",
        "Since the items are ordered, you cannot access them using index\n",
        "\n",
        "```\n",
        "  dic = {\n",
        "    \"brand\": \"Ford\",\n",
        "    \"model\": \"Mustang\",\n",
        "    \"year\": 1964\n",
        "  }\n",
        "  print(dic[0])\n",
        "\n",
        "output: KeyError: 0 #key cannot be found\n",
        "```\n",
        "\n",
        "Also, the duplicated values will overwrite existing values:\n",
        "\n",
        "Example\n",
        "```\n",
        "thisdict = {\n",
        "  \"brand\": \"Ford\",\n",
        "  \"model\": \"Mustang\",\n",
        "  \"year\": 1964,\n",
        "  \"year\": 2020\n",
        "}\n",
        "print(thisdict)\n",
        "output: {'brand': 'Ford', 'model': 'Mustang', 'year': 2020}\n",
        "```"
      ]
    },
    {
      "cell_type": "code",
      "execution_count": null,
      "metadata": {
        "id": "u-toOhm8PNGc"
      },
      "outputs": [],
      "source": []
    },
    {
      "cell_type": "markdown",
      "metadata": {
        "id": "dJSBPEHBXxeN"
      },
      "source": [
        "###Get method\n",
        "An item in a dictionary can also be accessed using the `.get()` method.  \n",
        "\n",
        "A `.get()` method can take in a default value argument, which will be returned if the key is not found.\n",
        "\n",
        "The syntax is as follows:\n",
        "\n",
        "```Python\n",
        "sample_dictionary.get(key,message_if_unavailable)\n",
        "```\n",
        "**Try it yourself**\n",
        "\n",
        "```Python\n",
        "print(fruits)\n",
        "print(fruits.get('a'))\n",
        "print(fruits.get('a', 'Not available'))\n",
        "print(fruits.get('z'))\n",
        "print(fruits.get('z', 'Not available'))\n",
        "```"
      ]
    },
    {
      "cell_type": "code",
      "execution_count": null,
      "metadata": {
        "id": "ts4yqFfQYB8D"
      },
      "outputs": [],
      "source": []
    },
    {
      "cell_type": "markdown",
      "metadata": {
        "id": "HMgrEqPyUl9O"
      },
      "source": [
        "###Exercise 2: Student Grades\n",
        "\n",
        "Write a Python program that stores student names and their corresponding grades in a dictionary. The program should perform the following tasks:\n",
        "\n",
        "- Initialize an empty dictionary to store student grades.  \n",
        "- Ask the user to input the number of students.  \n",
        "- For each student, ask the user to input the student's name and grade.  \n",
        "- Store the student name as the key and the grade as the value in the dictionary.  \n",
        "- After inputting all student grades, print out the names and grades of all\n",
        "students.  "
      ]
    },
    {
      "cell_type": "code",
      "execution_count": null,
      "metadata": {
        "id": "woKOmSDsU1-Q"
      },
      "outputs": [],
      "source": []
    },
    {
      "cell_type": "markdown",
      "metadata": {
        "id": "5C24f1Ck5tvT"
      },
      "source": [
        "###Chaging a value in dictionary\n",
        "A value in dictionary can be added or change using the key.\n",
        "\n",
        "Example: to add a value that isn't inside the dictionary\n",
        "\n",
        "```\n",
        " dic[new_key] = new_value\n",
        "\n",
        "```\n",
        "\n",
        "Example: to change a value inside the dictionary\n",
        "\n",
        "```\n",
        "  dic[key] = new_value\n",
        "\n",
        "```\n"
      ]
    },
    {
      "cell_type": "markdown",
      "metadata": {
        "id": "F91jb-JaAGR9"
      },
      "source": [
        "### removing values from a dictionary\n",
        "\n",
        "To remove an item from the list, you can use the `.pop()` method. Unlike, poping an item in list, `.pop()` requires a key to remove an item.\n",
        "\n",
        "syntax:\n",
        "```\n",
        "  dic = {\"a\": 1, \"b\": 2, \"c\": 3, \"d\": 4}\n",
        "  dic.pop()\n",
        "  print(dic)\n",
        "\n",
        "TypeError: pop expected at least 1 argument, got 0\n",
        "```\n",
        "\n",
        "```\n",
        "  dic = {\"a\": 1, \"b\": 2, \"c\": 3, \"d\": 4}\n",
        "  dic.pop(\"b\")\n",
        "  print(dic)\n",
        "\n",
        "output: {'a': 1, 'c': 3, 'd': 4}\n",
        "```"
      ]
    },
    {
      "cell_type": "code",
      "execution_count": null,
      "metadata": {
        "id": "cAye4CrFAciX"
      },
      "outputs": [],
      "source": []
    },
    {
      "cell_type": "markdown",
      "metadata": {
        "id": "VtqHYvw1DTKD"
      },
      "source": [
        "###Exercise 3: sorting scorers\n",
        "\n",
        "Objective:\n",
        "To create a Python program that sorts top scorers in a game using a custom sorting algorithm without using built-in sorting functions or list comprehensions.\n",
        "\n",
        "Instructions:\n",
        "Write a Python program that reads a dictionary containing the scores of players in a game and sorts them based on their scores using a custom sorting algorithm.\n",
        "\n",
        "Your program should include the following functionalities:\n",
        "\n",
        "The dictionary containing player names as keys and their scores as values is provided.\n",
        "Implement a custom sorting algorithm (without the use of `sort` method or `sorted()` function) to sort the players based on their scores in descending order.\n",
        "Display the sorted players with their scores."
      ]
    },
    {
      "cell_type": "code",
      "execution_count": null,
      "metadata": {
        "id": "hrq0EuotEFkZ"
      },
      "outputs": [],
      "source": [
        "print(\"Welcome to Top Scorers!\")\n",
        "\n",
        "# Dictionary of player scores\n",
        "player_scores = {\n",
        "    \"Alice\": 100,\n",
        "    \"Bob\": 85,\n",
        "    \"Charlie\": 95,\n",
        "    \"David\": 75,\n",
        "    \"Eve\": 90\n",
        "}\n",
        "\n",
        "print(\"Original Scores:\")\n",
        "for name, score in player_scores.items():\n",
        "    print(f\"{name}: {score}\")\n",
        "\n",
        "# Continue the code"
      ]
    },
    {
      "cell_type": "markdown",
      "metadata": {
        "id": "azXqRAxIED9d"
      },
      "source": []
    },
    {
      "cell_type": "code",
      "source": [],
      "metadata": {
        "id": "ZkZrmiQcS1gJ"
      },
      "execution_count": null,
      "outputs": []
    },
    {
      "cell_type": "code",
      "source": [],
      "metadata": {
        "id": "vdudN7BzS2Di"
      },
      "execution_count": null,
      "outputs": []
    },
    {
      "cell_type": "markdown",
      "metadata": {
        "id": "M2BGWeztzUXd"
      },
      "source": [
        "##Introduction of function\n",
        "Many of the code in the previous lessons can only be used once.\n",
        "\n",
        "If we need to use them again, we will have to copy all the code and paste it where we need it. Also, if we change any part of the code, we will have to change it in all the places where it is used. This becomes very cumbersome.\n",
        "\n",
        "Once you find yourself using the same chunk of code more than twice, you should consider how to write it in a way that you only need to declare it once and then reuse it again afterwards.\n",
        "\n",
        "We can do so using functions and procedures. A in depth discussion of functions and procedures will be covered in the theoretical segment. For now, we shall focus on how they can be implemented in Python."
      ]
    },
    {
      "cell_type": "markdown",
      "metadata": {
        "id": "FtTuTQ0WzrxN"
      },
      "source": [
        "###Declaring Functions\n",
        "In Python, a function is declared using the def keywords as follows:\n",
        "\n",
        "```\n",
        "def func(zero_or_more_parameters):  \n",
        "    # Your code here\n",
        "    return zero_or_more_values\n",
        "```\n",
        "In the return statement:\n",
        "\n",
        "If more than 1 value is specified, a single tuple containing all the values specified will be returned  \n",
        "If no value is specified, the None type is returned by default  \n",
        "If 1 value is specified, the value itself is returned.  "
      ]
    },
    {
      "cell_type": "code",
      "execution_count": null,
      "metadata": {
        "id": "W_82xYxgOrp9"
      },
      "outputs": [],
      "source": []
    },
    {
      "cell_type": "markdown",
      "metadata": {
        "id": "L7z3m7jr499Y"
      },
      "source": [
        "###Parameters\n",
        "A function / procedure will often need to work on some input variables. These input variables are known as parameters.\n",
        "\n",
        "Parameters are declared for use by through ( parentheses ) in the definition line."
      ]
    }
  ],
  "metadata": {
    "colab": {
      "provenance": [],
      "include_colab_link": true
    },
    "kernelspec": {
      "display_name": "Python 3",
      "name": "python3"
    },
    "language_info": {
      "name": "python"
    }
  },
  "nbformat": 4,
  "nbformat_minor": 0
}